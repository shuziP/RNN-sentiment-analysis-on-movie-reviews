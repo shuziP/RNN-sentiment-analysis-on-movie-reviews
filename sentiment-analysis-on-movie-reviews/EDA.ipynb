{
 "cells": [
  {
   "cell_type": "code",
   "execution_count": 9,
   "metadata": {
    "collapsed": true
   },
   "outputs": [
    {
     "name": "stdout",
     "output_type": "stream",
     "text": [
      "(156060, 4) (66292, 3)\n"
     ]
    }
   ],
   "source": [
    "import pandas as pd\n",
    "\n",
    "train_df = pd.read_csv('sentiment-analysis-on-movie-reviews/train.tsv', sep='\\t', header=0)\n",
    "test_df = pd.read_csv('sentiment-analysis-on-movie-reviews/test.tsv', sep='\\t', header=0)\n",
    "\n",
    "\n",
    "print(train_df.shape,test_df.shape)\n",
    "\n"
   ]
  },
  {
   "cell_type": "code",
   "execution_count": 10,
   "metadata": {},
   "outputs": [],
   "source": [
    "pd.set_option('display.max_rows',100)"
   ]
  },
  {
   "cell_type": "code",
   "execution_count": 11,
   "metadata": {
    "collapsed": false
   },
   "outputs": [
    {
     "data": {
      "text/plain": [
       "Index(['PhraseId', 'SentenceId', 'Phrase', 'Sentiment'], dtype='object')"
      ]
     },
     "execution_count": 11,
     "metadata": {},
     "output_type": "execute_result"
    }
   ],
   "source": [
    "train_df.columns"
   ]
  },
  {
   "cell_type": "code",
   "execution_count": 12,
   "metadata": {},
   "outputs": [
    {
     "data": {
      "text/plain": [
       "0              1\n1              2\n2              3\n3              4\n4              5\n5              6\n6              7\n7              8\n8              9\n9             10\n10            11\n11            12\n12            13\n13            14\n14            15\n15            16\n16            17\n17            18\n18            19\n19            20\n20            21\n21            22\n22            23\n23            24\n24            25\n25            26\n26            27\n27            28\n28            29\n29            30\n30            31\n31            32\n32            33\n33            34\n34            35\n35            36\n36            37\n37            38\n38            39\n39            40\n40            41\n41            42\n42            43\n43            44\n44            45\n45            46\n46            47\n47            48\n48            49\n49            50\n           ...  \n156010    156011\n156011    156012\n156012    156013\n156013    156014\n156014    156015\n156015    156016\n156016    156017\n156017    156018\n156018    156019\n156019    156020\n156020    156021\n156021    156022\n156022    156023\n156023    156024\n156024    156025\n156025    156026\n156026    156027\n156027    156028\n156028    156029\n156029    156030\n156030    156031\n156031    156032\n156032    156033\n156033    156034\n156034    156035\n156035    156036\n156036    156037\n156037    156038\n156038    156039\n156039    156040\n156040    156041\n156041    156042\n156042    156043\n156043    156044\n156044    156045\n156045    156046\n156046    156047\n156047    156048\n156048    156049\n156049    156050\n156050    156051\n156051    156052\n156052    156053\n156053    156054\n156054    156055\n156055    156056\n156056    156057\n156057    156058\n156058    156059\n156059    156060\nName: PhraseId, Length: 156060, dtype: int64"
      ]
     },
     "execution_count": 12,
     "metadata": {},
     "output_type": "execute_result"
    }
   ],
   "source": [
    "train_df['PhraseId']"
   ]
  },
  {
   "cell_type": "code",
   "execution_count": 8,
   "metadata": {},
   "outputs": [
    {
     "data": {
      "text/plain": [
       "0            1\n1            1\n2            1\n3            1\n4            1\n5            1\n6            1\n7            1\n8            1\n9            1\n10           1\n11           1\n12           1\n13           1\n14           1\n15           1\n16           1\n17           1\n18           1\n19           1\n20           1\n21           1\n22           1\n23           1\n24           1\n25           1\n26           1\n27           1\n28           1\n29           1\n30           1\n31           1\n32           1\n33           1\n34           1\n35           1\n36           1\n37           1\n38           1\n39           1\n40           1\n41           1\n42           1\n43           1\n44           1\n45           1\n46           1\n47           1\n48           1\n49           1\n          ... \n156010    8541\n156011    8541\n156012    8541\n156013    8541\n156014    8541\n156015    8541\n156016    8541\n156017    8541\n156018    8541\n156019    8541\n156020    8541\n156021    8542\n156022    8542\n156023    8542\n156024    8542\n156025    8542\n156026    8542\n156027    8542\n156028    8542\n156029    8542\n156030    8542\n156031    8543\n156032    8543\n156033    8543\n156034    8543\n156035    8543\n156036    8543\n156037    8543\n156038    8543\n156039    8544\n156040    8544\n156041    8544\n156042    8544\n156043    8544\n156044    8544\n156045    8544\n156046    8544\n156047    8544\n156048    8544\n156049    8544\n156050    8544\n156051    8544\n156052    8544\n156053    8544\n156054    8544\n156055    8544\n156056    8544\n156057    8544\n156058    8544\n156059    8544\nName: SentenceId, Length: 156060, dtype: int64"
      ]
     },
     "execution_count": 8,
     "metadata": {},
     "output_type": "execute_result"
    }
   ],
   "source": [
    "train_df['SentenceId']"
   ]
  },
  {
   "cell_type": "code",
   "execution_count": 14,
   "metadata": {},
   "outputs": [
    {
     "data": {
      "text/plain": [
       "0         A series of escapades demonstrating the adage ...\n1         A series of escapades demonstrating the adage ...\n2                                                  A series\n3                                                         A\n4                                                    series\n5         of escapades demonstrating the adage that what...\n6                                                        of\n7         escapades demonstrating the adage that what is...\n8                                                 escapades\n9         demonstrating the adage that what is good for ...\n10                                  demonstrating the adage\n11                                            demonstrating\n12                                                the adage\n13                                                      the\n14                                                    adage\n15                          that what is good for the goose\n16                                                     that\n17                               what is good for the goose\n18                                                     what\n19                                    is good for the goose\n20                                                       is\n21                                       good for the goose\n22                                                     good\n23                                            for the goose\n24                                                      for\n25                                                the goose\n26                                                    goose\n27        is also good for the gander , some of which oc...\n28        is also good for the gander , some of which oc...\n29                                                  is also\n30                                                     also\n31        good for the gander , some of which occasional...\n32        for the gander , some of which occasionally am...\n33        the gander , some of which occasionally amuses...\n34                                             the gander ,\n35                                               the gander\n36                                                   gander\n37                                                        ,\n38        some of which occasionally amuses but none of ...\n39                                            some of which\n40                                                     some\n41                                                 of which\n42                                                    which\n43        occasionally amuses but none of which amounts ...\n44                                             occasionally\n45        amuses but none of which amounts to much of a ...\n46                                                   amuses\n47             but none of which amounts to much of a story\n48                                                      but\n49                 none of which amounts to much of a story\n                                ...                        \n156010    a great job of anchoring the characters in the...\n156011                                          a great job\n156012                                            great job\n156013    of anchoring the characters in the emotional r...\n156014    anchoring the characters in the emotional real...\n156015                             anchoring the characters\n156016             in the emotional realities of middle age\n156017                the emotional realities of middle age\n156018                              the emotional realities\n156019                                  emotional realities\n156020                                        of middle age\n156021    -LRB- Tries -RRB- to parody a genre that 's al...\n156022                          -LRB- Tries -RRB- to parody\n156023                                    -LRB- Tries -RRB-\n156024                                          Tries -RRB-\n156025                                            to parody\n156026    a genre that 's already a joke in the United S...\n156027                                         a genre that\n156028             's already a joke in the United States .\n156029               's already a joke in the United States\n156030                          a joke in the United States\n156031    The movie 's downfall is to substitute plot fo...\n156032                                The movie 's downfall\n156033              is to substitute plot for personality .\n156034                is to substitute plot for personality\n156035                   to substitute plot for personality\n156036                      substitute plot for personality\n156037                                      substitute plot\n156038                                      for personality\n156039    The film is darkly atmospheric , with Herrmann...\n156040    is darkly atmospheric , with Herrmann quietly ...\n156041    is darkly atmospheric , with Herrmann quietly ...\n156042                              is darkly atmospheric ,\n156043                                is darkly atmospheric\n156044    with Herrmann quietly suggesting the sadness a...\n156045    Herrmann quietly suggesting the sadness and ob...\n156046                                             Herrmann\n156047    quietly suggesting the sadness and obsession b...\n156048    suggesting the sadness and obsession beneath H...\n156049                 suggesting the sadness and obsession\n156050                            the sadness and obsession\n156051                                sadness and obsession\n156052                                          sadness and\n156053          beneath Hearst 's forced avuncular chortles\n156054                  Hearst 's forced avuncular chortles\n156055                                            Hearst 's\n156056                            forced avuncular chortles\n156057                                   avuncular chortles\n156058                                            avuncular\n156059                                             chortles\nName: Phrase, Length: 156060, dtype: object"
      ]
     },
     "execution_count": 14,
     "metadata": {},
     "output_type": "execute_result"
    }
   ],
   "source": [
    "train_df['Phrase']"
   ]
  },
  {
   "cell_type": "code",
   "execution_count": 15,
   "metadata": {},
   "outputs": [
    {
     "data": {
      "text/plain": [
       "0         1\n1         2\n2         2\n3         2\n4         2\n5         2\n6         2\n7         2\n8         2\n9         2\n10        2\n11        2\n12        2\n13        2\n14        2\n15        2\n16        2\n17        2\n18        2\n19        2\n20        2\n21        3\n22        3\n23        2\n24        2\n25        2\n26        2\n27        2\n28        2\n29        2\n30        2\n31        2\n32        2\n33        1\n34        2\n35        2\n36        2\n37        2\n38        2\n39        2\n40        2\n41        2\n42        2\n43        2\n44        2\n45        2\n46        3\n47        1\n48        2\n49        1\n         ..\n156010    4\n156011    3\n156012    3\n156013    2\n156014    3\n156015    2\n156016    2\n156017    2\n156018    2\n156019    2\n156020    2\n156021    1\n156022    1\n156023    3\n156024    2\n156025    2\n156026    1\n156027    2\n156028    1\n156029    1\n156030    2\n156031    1\n156032    1\n156033    1\n156034    1\n156035    2\n156036    1\n156037    2\n156038    2\n156039    2\n156040    2\n156041    2\n156042    2\n156043    3\n156044    2\n156045    2\n156046    2\n156047    1\n156048    2\n156049    2\n156050    2\n156051    1\n156052    1\n156053    2\n156054    2\n156055    2\n156056    1\n156057    3\n156058    2\n156059    2\nName: Sentiment, Length: 156060, dtype: int64"
      ]
     },
     "execution_count": 15,
     "metadata": {},
     "output_type": "execute_result"
    }
   ],
   "source": [
    "train_df['Sentiment']\n",
    "\n"
   ]
  },
  {
   "cell_type": "code",
   "execution_count": 16,
   "metadata": {
    "collapsed": false
   },
   "outputs": [
    {
     "data": {
      "text/plain": [
       "Index(['PhraseId', 'SentenceId', 'Phrase'], dtype='object')"
      ]
     },
     "execution_count": 16,
     "metadata": {},
     "output_type": "execute_result"
    }
   ],
   "source": [
    "test_df.columns"
   ]
  },
  {
   "cell_type": "code",
   "execution_count": 19,
   "metadata": {},
   "outputs": [],
   "source": [
    "Phrase_list = train_df['Phrase']"
   ]
  },
  {
   "cell_type": "code",
   "execution_count": 20,
   "metadata": {},
   "outputs": [],
   "source": [
    "Sentiment_list = train_df['Sentiment']"
   ]
  },
  {
   "cell_type": "code",
   "execution_count": 21,
   "metadata": {},
   "outputs": [
    {
     "name": "stdout",
     "output_type": "stream",
     "text": [
      "0         1\n1         2\n2         2\n3         2\n4         2\n5         2\n6         2\n7         2\n8         2\n9         2\n10        2\n11        2\n12        2\n13        2\n14        2\n15        2\n16        2\n17        2\n18        2\n19        2\n20        2\n21        3\n22        3\n23        2\n24        2\n25        2\n26        2\n27        2\n28        2\n29        2\n30        2\n31        2\n32        2\n33        1\n34        2\n35        2\n36        2\n37        2\n38        2\n39        2\n40        2\n41        2\n42        2\n43        2\n44        2\n45        2\n46        3\n47        1\n48        2\n49        1\n         ..\n156010    4\n156011    3\n156012    3\n156013    2\n156014    3\n156015    2\n156016    2\n156017    2\n156018    2\n156019    2\n156020    2\n156021    1\n156022    1\n156023    3\n156024    2\n156025    2\n156026    1\n156027    2\n156028    1\n156029    1\n156030    2\n156031    1\n156032    1\n156033    1\n156034    1\n156035    2\n156036    1\n156037    2\n156038    2\n156039    2\n156040    2\n156041    2\n156042    2\n156043    3\n156044    2\n156045    2\n156046    2\n156047    1\n156048    2\n156049    2\n156050    2\n156051    1\n156052    1\n156053    2\n156054    2\n156055    2\n156056    1\n156057    3\n156058    2\n156059    2\nName: Sentiment, Length: 156060, dtype: int64\n"
     ]
    }
   ],
   "source": [
    "print(Sentiment_list)"
   ]
  },
  {
   "cell_type": "code",
   "execution_count": 26,
   "metadata": {},
   "outputs": [
    {
     "name": "stderr",
     "output_type": "stream",
     "text": [
      "W1006 09:57:24.571994   388 deprecation_wrapper.py:119] From C:\\ProgramData\\Anaconda3\\lib\\site-packages\\keras\\backend\\tensorflow_backend.py:517: The name tf.placeholder is deprecated. Please use tf.compat.v1.placeholder instead.\n\n"
     ]
    },
    {
     "name": "stderr",
     "output_type": "stream",
     "text": [
      "W1006 09:57:24.583403   388 deprecation_wrapper.py:119] From C:\\ProgramData\\Anaconda3\\lib\\site-packages\\keras\\backend\\tensorflow_backend.py:4138: The name tf.random_uniform is deprecated. Please use tf.random.uniform instead.\n\n"
     ]
    },
    {
     "ename": "AttributeError",
     "evalue": "'Sequential' object has no attribute 'comile'",
     "traceback": [
      "\u001b[1;31m---------------------------------------------------------------------------\u001b[0m",
      "\u001b[1;31mAttributeError\u001b[0m                            Traceback (most recent call last)",
      "\u001b[1;32m<ipython-input-26-9869729de2eb>\u001b[0m in \u001b[0;36m<module>\u001b[1;34m()\u001b[0m\n\u001b[0;32m     15\u001b[0m \u001b[0mmodel\u001b[0m\u001b[1;33m.\u001b[0m\u001b[0madd\u001b[0m\u001b[1;33m(\u001b[0m\u001b[0mDense\u001b[0m\u001b[1;33m(\u001b[0m\u001b[1;36m1\u001b[0m\u001b[1;33m,\u001b[0m \u001b[0mactivation\u001b[0m\u001b[1;33m=\u001b[0m\u001b[1;34m'sigmoid'\u001b[0m\u001b[1;33m)\u001b[0m\u001b[1;33m)\u001b[0m\u001b[1;33m\u001b[0m\u001b[0m\n\u001b[0;32m     16\u001b[0m \u001b[1;33m\u001b[0m\u001b[0m\n\u001b[1;32m---> 17\u001b[1;33m \u001b[0mmodel\u001b[0m\u001b[1;33m.\u001b[0m\u001b[0mcomile\u001b[0m\u001b[1;33m(\u001b[0m\u001b[0moptimizer\u001b[0m\u001b[1;33m=\u001b[0m\u001b[1;34m'rmsprop'\u001b[0m\u001b[1;33m,\u001b[0m\u001b[0mloss\u001b[0m\u001b[1;33m=\u001b[0m\u001b[1;34m'binary_crossentropy'\u001b[0m\u001b[1;33m,\u001b[0m\u001b[0mmetrics\u001b[0m\u001b[1;33m=\u001b[0m\u001b[1;33m[\u001b[0m\u001b[1;34m'acc'\u001b[0m\u001b[1;33m]\u001b[0m\u001b[1;33m)\u001b[0m\u001b[1;33m\u001b[0m\u001b[0m\n\u001b[0m\u001b[0;32m     18\u001b[0m history = model.fit(Phrase_list,Sentiment_list,\n\u001b[0;32m     19\u001b[0m                     \u001b[0mepochs\u001b[0m\u001b[1;33m=\u001b[0m\u001b[1;36m10\u001b[0m\u001b[1;33m,\u001b[0m\u001b[1;33m\u001b[0m\u001b[0m\n",
      "\u001b[1;31mAttributeError\u001b[0m: 'Sequential' object has no attribute 'comile'"
     ],
     "output_type": "error"
    }
   ],
   "source": [
    "from keras.layers import SimpleRNN\n",
    "from keras.models import Sequential\n",
    "from keras.layers import Embedding,SimpleRNN\n",
    "from keras.preprocessing import sequence\n",
    "from keras.layers import Dense\n",
    "\n",
    "max_features =10000\n",
    "maxlen=500\n",
    "batch_size = 32\n",
    "\n",
    "model = Sequential()\n",
    "\n",
    "model.add(Embedding(max_features, 32))\n",
    "model.add(SimpleRNN(32))\n",
    "model.add(Dense(1, activation='sigmoid'))\n",
    "\n",
    "model.comile(optimizer='rmsprop',loss='binary_crossentropy',metrics=['acc'])\n",
    "history = model.fit(Phrase_list,Sentiment_list,\n",
    "                    epochs=10,\n",
    "                    batch_size = 128,\n",
    "                    validation_split=0.2\n",
    "                    )"
   ]
  },
  {
   "cell_type": "code",
   "execution_count": null,
   "metadata": {},
   "outputs": [],
   "source": []
  }
 ],
 "metadata": {
  "kernelspec": {
   "display_name": "Python 2",
   "language": "python",
   "name": "python2"
  },
  "language_info": {
   "codemirror_mode": {
    "name": "ipython",
    "version": 2
   },
   "file_extension": ".py",
   "mimetype": "text/x-python",
   "name": "python",
   "nbconvert_exporter": "python",
   "pygments_lexer": "ipython2",
   "version": "2.7.6"
  }
 },
 "nbformat": 4,
 "nbformat_minor": 0
}
